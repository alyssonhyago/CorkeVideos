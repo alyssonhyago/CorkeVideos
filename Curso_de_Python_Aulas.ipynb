{
  "nbformat": 4,
  "nbformat_minor": 0,
  "metadata": {
    "colab": {
      "name": "Curso de Python -Aulas ",
      "provenance": [],
      "authorship_tag": "ABX9TyMsCb0ov9zNu1vxHnrQXZRC",
      "include_colab_link": true
    },
    "kernelspec": {
      "name": "python3",
      "display_name": "Python 3"
    },
    "language_info": {
      "name": "python"
    }
  },
  "cells": [
    {
      "cell_type": "markdown",
      "metadata": {
        "id": "view-in-github",
        "colab_type": "text"
      },
      "source": [
        "<a href=\"https://colab.research.google.com/github/alyssonhyago/CorkeVideos/blob/master/Curso_de_Python_Aulas.ipynb\" target=\"_parent\"><img src=\"https://colab.research.google.com/assets/colab-badge.svg\" alt=\"Open In Colab\"/></a>"
      ]
    },
    {
      "cell_type": "markdown",
      "metadata": {
        "id": "AWAT-WkGfh5d"
      },
      "source": [
        "### Curso de Python - Curso em Video - Prof: Guanabara "
      ]
    },
    {
      "cell_type": "markdown",
      "metadata": {
        "id": "7GPmhHpqi8ds"
      },
      "source": [
        "### Aula 01 - Primeiros comandos em Python "
      ]
    },
    {
      "cell_type": "markdown",
      "metadata": {
        "id": "U7nDFfPwutBV"
      },
      "source": [
        "> Teoria \n",
        "\n",
        "*   Escrevendo mensagem na tela: Olá mundo!\n",
        "*   ***Sintaxe:*** print ('mensagem a ser impressa na tela ')\n",
        "*   Toda variável é um objeto para o Python\n",
        "*   Simbolo de = significa recebe \n",
        "*   Sintaxe: idade = input('digite seu nome: ')\n",
        "*   Item da lista\n",
        "\n",
        "\n",
        "\n",
        "\n",
        "> Prática \n",
        "\n",
        "* print('Olá mundo!')\n",
        "* print('7+4')\n",
        "* print('7'+'4')\n",
        "* print(7+4)\n",
        "* print(nome, idade,peso) imprimindo variavel \n",
        "*   Item da lista\n",
        "\n",
        "\n",
        "\n",
        "\n",
        "\n",
        "\n",
        "\n"
      ]
    },
    {
      "cell_type": "code",
      "metadata": {
        "id": "FYWzyGS1i_9Z",
        "colab": {
          "base_uri": "https://localhost:8080/"
        },
        "outputId": "a67e65ac-9ced-4de0-f031-e9ccc52f7cc6"
      },
      "source": [
        "nome = 'Alysson'\n",
        "idade = 25\n",
        "peso = 100\n",
        "print(nome, idade,peso) # com aspas imprime a mensagem nome, idade, peso"
      ],
      "execution_count": null,
      "outputs": [
        {
          "output_type": "stream",
          "text": [
            "Alysson 25 100\n"
          ],
          "name": "stdout"
        }
      ]
    },
    {
      "cell_type": "markdown",
      "metadata": {
        "id": "AqIbk1vty2bT"
      },
      "source": [
        "> #Atribuindo valores a variavel com texto"
      ]
    },
    {
      "cell_type": "code",
      "metadata": {
        "colab": {
          "base_uri": "https://localhost:8080/"
        },
        "id": "YaasTa9FzNrh",
        "outputId": "6abc434a-e1b1-43a3-cdda-53894a84cf71"
      },
      "source": [
        "nome = input('Digite seu nome: ')\n",
        "idade = input('Digite sua idade: ')\n",
        "print(nome, idade )"
      ],
      "execution_count": null,
      "outputs": [
        {
          "output_type": "stream",
          "text": [
            "Digite seu nome: Alysson\n",
            "Digite sua idade: 25\n",
            "Alysson 25\n"
          ],
          "name": "stdout"
        }
      ]
    },
    {
      "cell_type": "markdown",
      "metadata": {
        "id": "GespNyfq0PgC"
      },
      "source": [
        "# Aula 02 - Tipos Primitivos e saídas de dados"
      ]
    },
    {
      "cell_type": "markdown",
      "metadata": {
        "id": "SA11nQVc0frH"
      },
      "source": [
        "> Sintaxe: \n",
        "\n",
        "\n",
        "1.   Número Inteiro: int -> 1 2 3\n",
        "2.   Numero flout: float -> 7.6 10.5\n",
        "3.   Número Booleano: bool -> True False \n",
        "4.   Texto, String:  str -> 'Olá' '7.5' \n",
        "\n",
        "*   n1 =  int(input('mensagem'))\n",
        "*   n2 =  input('mensagem')\n",
        "*   s = n1 + n2\n",
        "*   print('A soma é ', s)\n",
        "*   print('mensagem {}'.format(s))\n",
        "*   Comando para ver o tipo \"type()\"\n",
        "\n"
      ]
    },
    {
      "cell_type": "code",
      "metadata": {
        "colab": {
          "base_uri": "https://localhost:8080/"
        },
        "id": "z_46K6KL1Vet",
        "outputId": "3336e049-c8e0-4124-a36f-3f9d5a327349"
      },
      "source": [
        "n1 = int(input('Digite um numero: '))\n",
        "n2 = float(input('Digite um numero: '))\n",
        "s = n1 + n2\n",
        "#print('A soma é', s)\n",
        "print('A soma é {}'.format(s))"
      ],
      "execution_count": null,
      "outputs": [
        {
          "output_type": "stream",
          "text": [
            "Digite um numero: 2\n",
            "Digite um numero: 7.25\n",
            "A soma é 9.25\n"
          ],
          "name": "stdout"
        }
      ]
    }
  ]
}